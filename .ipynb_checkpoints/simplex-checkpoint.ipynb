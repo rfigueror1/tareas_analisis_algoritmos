{
 "cells": [
  {
   "cell_type": "markdown",
   "metadata": {},
   "source": [
    "## Ricardo Figueroa CU 112714\n",
    "## Tarea individual 2\n",
    "### Algoritmo Simplex - Corrección"
   ]
  },
  {
   "cell_type": "code",
   "execution_count": 1008,
   "metadata": {},
   "outputs": [],
   "source": [
    "import collections\n",
    "import numpy as np\n",
    "from __future__ import division"
   ]
  },
  {
   "cell_type": "markdown",
   "metadata": {},
   "source": [
    "### Definir sistema de ecuaciones, se asume que el usuario define sistema de ecuaciones"
   ]
  },
  {
   "cell_type": "markdown",
   "metadata": {},
   "source": [
    "#### Ejemplo 1"
   ]
  },
  {
   "cell_type": "code",
   "execution_count": 1009,
   "metadata": {},
   "outputs": [],
   "source": [
    "funcion = np.array([20.0,30.0,0.0])"
   ]
  },
  {
   "cell_type": "code",
   "execution_count": 1010,
   "metadata": {},
   "outputs": [],
   "source": [
    "res1 = np.array([3.0,3.0,36])"
   ]
  },
  {
   "cell_type": "code",
   "execution_count": 1011,
   "metadata": {},
   "outputs": [],
   "source": [
    "res2 = np.array([5.0,2.0,50.0])"
   ]
  },
  {
   "cell_type": "code",
   "execution_count": 1012,
   "metadata": {},
   "outputs": [],
   "source": [
    "res3 = np.array([2.0,6.0,60.0])"
   ]
  },
  {
   "cell_type": "code",
   "execution_count": 1013,
   "metadata": {},
   "outputs": [],
   "source": [
    "matrix = np.array([funcion,res1,res2,res3])"
   ]
  },
  {
   "cell_type": "markdown",
   "metadata": {},
   "source": [
    "#### Ejemplo Clase"
   ]
  },
  {
   "cell_type": "code",
   "execution_count": 1014,
   "metadata": {},
   "outputs": [],
   "source": [
    "funcion_clase = np.array([21.0,31.0,0.0])"
   ]
  },
  {
   "cell_type": "code",
   "execution_count": 1015,
   "metadata": {},
   "outputs": [],
   "source": [
    "res1_clase = np.array([2.0,3.0,25])"
   ]
  },
  {
   "cell_type": "code",
   "execution_count": 1016,
   "metadata": {},
   "outputs": [],
   "source": [
    "res2_clase = np.array([4.0,1.0,32.0])"
   ]
  },
  {
   "cell_type": "code",
   "execution_count": 1017,
   "metadata": {},
   "outputs": [],
   "source": [
    "res3_clase = np.array([2.0,9.0,54.0])"
   ]
  },
  {
   "cell_type": "code",
   "execution_count": 1018,
   "metadata": {},
   "outputs": [],
   "source": [
    "matrix_clase = np.array([funcion_clase,res1_clase,res2_clase,res3_clase])"
   ]
  },
  {
   "cell_type": "code",
   "execution_count": 1019,
   "metadata": {},
   "outputs": [],
   "source": [
    "def agregar_var_holgura(matrix):\n",
    "    temp_funcion = matrix[0]\n",
    "    for i in range(len(matrix[1])):\n",
    "        temp_funcion= np.insert(temp_funcion,-1,0)\n",
    "    longitud = len(matrix)\n",
    "    temp_matrix = np.array(temp_funcion)\n",
    "    for j in range(1,longitud):\n",
    "        temp_res = matrix[j]\n",
    "        for k in range(len(matrix)-1):\n",
    "            if(k==j-1):\n",
    "                temp_res = np.insert(temp_res,-1,1)\n",
    "            else:\n",
    "                temp_res = np.insert(temp_res,-1,0)\n",
    "        temp_matrix = np.concatenate((temp_matrix,np.array(temp_res)))\n",
    "    temp_matrix = np.reshape(temp_matrix,(int(len(matrix)),int(len(temp_matrix)/len(matrix))))\n",
    "    return temp_matrix"
   ]
  },
  {
   "cell_type": "code",
   "execution_count": 1020,
   "metadata": {},
   "outputs": [],
   "source": [
    "def mult_col(arr,matrix):\n",
    "    new_array = [0 for i in range(0,len(matrix[0]))]\n",
    "    for i in range(len(matrix[0])):\n",
    "        for j in range(0,len(matrix)):\n",
    "            new_array[i] = new_array[i] + arr[j]*matrix[j][i]\n",
    "    return new_array   "
   ]
  },
  {
   "cell_type": "code",
   "execution_count": 1021,
   "metadata": {},
   "outputs": [],
   "source": [
    "def check_if_all_negative(array):\n",
    "    if any(i > 1 for i in array):\n",
    "        return True\n",
    "    else:\n",
    "        return False"
   ]
  },
  {
   "cell_type": "code",
   "execution_count": 1022,
   "metadata": {},
   "outputs": [],
   "source": [
    "def simplex_completo(matrix):\n",
    "    ## first steps assumin no solved matrix as input\n",
    "    matrix = agregar_var_holgura(matrix)\n",
    "    contribution = [0 for i in range(1,len(matrix))]\n",
    "    z = [0 for i in range(len(matrix[0]))]\n",
    "    c_j = [matrix[0][j]-z[j] for j in range(len(matrix[0]))]\n",
    "    vars_array = [0 for i in range(len(matrix))]\n",
    "    while(check_if_all_negative(c_j) == True):\n",
    "        pivot_column_index = np.argmax(c_j)\n",
    "        temp_teta = [matrix[i][-1]/matrix[i][pivot_column_index] for i in range(1,len(matrix))]\n",
    "        key_row = np.argmin(temp_teta)+1\n",
    "        vars_array[key_row] = pivot_column_index+1\n",
    "        contribution[key_row-1] = matrix[0][pivot_column_index]\n",
    "        div_value = matrix[key_row][pivot_column_index]\n",
    "        for i in range(len(matrix[0])):\n",
    "            matrix[key_row][i] = matrix[key_row][i]/div_value\n",
    "        for i in range(1,len(matrix)):\n",
    "            key_value_row = matrix[i][pivot_column_index]\n",
    "            for j in range(0,len(matrix[0])):\n",
    "                key_value_column = matrix[key_row][j]\n",
    "                if(i!=key_row):\n",
    "                    matrix[i][j] = matrix[i][j]-(key_value_column*key_value_row)\n",
    "        z = mult_col(contribution,matrix[1:][:])\n",
    "        c_j = [matrix[0][j]-z[j] for j in range(len(matrix[0]))]\n",
    "        result_array = [ {'x'+str(vars_array[i]):matrix[i][-1]} if vars_array[i]>0 else '' for i in range(len(vars_array))]\n",
    "        [ x if x%2 else x*100 for x in range(1, 10) ]\n",
    "    return ({'function result':z[-1]},result_array)"
   ]
  },
  {
   "cell_type": "markdown",
   "metadata": {},
   "source": [
    "#### Resultado Ejemplo 1"
   ]
  },
  {
   "cell_type": "code",
   "execution_count": 1023,
   "metadata": {},
   "outputs": [
    {
     "name": "stdout",
     "output_type": "stream",
     "text": [
      "({'function result': 330.0}, ['', {'x1': 3.0}, '', {'x2': 9.0}])\n"
     ]
    }
   ],
   "source": [
    "print(simplex_completo(matrix))"
   ]
  },
  {
   "cell_type": "markdown",
   "metadata": {},
   "source": [
    "#### Resultado Ejemplo Clase"
   ]
  },
  {
   "cell_type": "code",
   "execution_count": 1024,
   "metadata": {},
   "outputs": [
    {
     "name": "stdout",
     "output_type": "stream",
     "text": [
      "({'function result': 260.0833333333333}, ['', {'x1': 5.249999999999999}, '', {'x2': 4.833333333333334}])\n"
     ]
    }
   ],
   "source": [
    "print(simplex_completo(matrix_clase))"
   ]
  }
 ],
 "metadata": {
  "kernelspec": {
   "display_name": "Python 2",
   "language": "python",
   "name": "python2"
  },
  "language_info": {
   "codemirror_mode": {
    "name": "ipython",
    "version": 2
   },
   "file_extension": ".py",
   "mimetype": "text/x-python",
   "name": "python",
   "nbconvert_exporter": "python",
   "pygments_lexer": "ipython2",
   "version": "2.7.12"
  }
 },
 "nbformat": 4,
 "nbformat_minor": 2
}
