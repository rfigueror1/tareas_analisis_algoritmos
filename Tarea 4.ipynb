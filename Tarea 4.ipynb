{
 "cells": [
  {
   "cell_type": "markdown",
   "metadata": {},
   "source": [
    "## Ricardo Figueroa CU 112714\n",
    "## Tarea 4\n",
    "### Algoritmo de Dijkstra\n",
    "### Algoritmo para multiplicación de matrices"
   ]
  },
  {
   "cell_type": "markdown",
   "metadata": {},
   "source": [
    "Primero vamos a recordar como se construye un arbol:"
   ]
  },
  {
   "cell_type": "code",
   "execution_count": 52,
   "metadata": {},
   "outputs": [],
   "source": [
    "import collections\n",
    "import numpy as np"
   ]
  },
  {
   "cell_type": "code",
   "execution_count": 193,
   "metadata": {},
   "outputs": [],
   "source": [
    "B=dict(name='B', distance=1000, children=[])"
   ]
  },
  {
   "cell_type": "code",
   "execution_count": 194,
   "metadata": {},
   "outputs": [],
   "source": [
    "A=dict(name='A', distance=1000, children=[])"
   ]
  },
  {
   "cell_type": "code",
   "execution_count": 195,
   "metadata": {},
   "outputs": [],
   "source": [
    "C=dict(name='C', distance=1000, children=[])"
   ]
  },
  {
   "cell_type": "code",
   "execution_count": 196,
   "metadata": {},
   "outputs": [],
   "source": [
    "D=dict(name='D', distance=1000, children=[])"
   ]
  },
  {
   "cell_type": "code",
   "execution_count": 197,
   "metadata": {},
   "outputs": [],
   "source": [
    "E=dict(name='E', distance=1000, children=[])"
   ]
  },
  {
   "cell_type": "code",
   "execution_count": 198,
   "metadata": {},
   "outputs": [],
   "source": [
    "F=dict(name='F', distance=1000, children=[])"
   ]
  },
  {
   "cell_type": "code",
   "execution_count": 199,
   "metadata": {},
   "outputs": [],
   "source": [
    "A['children'] = [B,C]"
   ]
  },
  {
   "cell_type": "code",
   "execution_count": 200,
   "metadata": {},
   "outputs": [],
   "source": [
    "B['children'] = [C,D]"
   ]
  },
  {
   "cell_type": "code",
   "execution_count": 201,
   "metadata": {},
   "outputs": [],
   "source": [
    "C['childred'] = [D]"
   ]
  },
  {
   "cell_type": "code",
   "execution_count": 202,
   "metadata": {},
   "outputs": [],
   "source": [
    "E['children'] = [F]"
   ]
  },
  {
   "cell_type": "code",
   "execution_count": 203,
   "metadata": {},
   "outputs": [],
   "source": [
    "F['children'] = [C]"
   ]
  },
  {
   "cell_type": "code",
   "execution_count": 204,
   "metadata": {},
   "outputs": [
    {
     "name": "stdout",
     "output_type": "stream",
     "text": [
      "B\n",
      "C\n"
     ]
    }
   ],
   "source": [
    "for i in A['children']:\n",
    "    print i['name']"
   ]
  },
  {
   "cell_type": "code",
   "execution_count": 205,
   "metadata": {},
   "outputs": [],
   "source": [
    "def all_paths(graph, result):\n",
    "    children = graph['children']\n",
    "    print(graph['name'])\n",
    "    result.append(graph['name'])\n",
    "    for i in children:\n",
    "        all_paths(i, result)\n",
    "    return result"
   ]
  },
  {
   "cell_type": "code",
   "execution_count": 206,
   "metadata": {},
   "outputs": [
    {
     "name": "stdout",
     "output_type": "stream",
     "text": [
      "A\n",
      "B\n",
      "C\n",
      "D\n",
      "C\n"
     ]
    },
    {
     "data": {
      "text/plain": [
       "['A', 'B', 'C', 'D', 'C']"
      ]
     },
     "execution_count": 206,
     "metadata": {},
     "output_type": "execute_result"
    }
   ],
   "source": [
    "all_paths(A, [])"
   ]
  },
  {
   "cell_type": "markdown",
   "metadata": {},
   "source": [
    "Vamos a crear la clase 'Graph'"
   ]
  },
  {
   "cell_type": "code",
   "execution_count": 242,
   "metadata": {},
   "outputs": [],
   "source": [
    "class Graph:\n",
    "  def __init__(self):\n",
    "    self.nodes = set() ##creates a set {}\n",
    "    self.edges = collections.defaultdict(list) \n",
    "    self.distances = {}\n",
    "\n",
    "  def add_node(self, value):\n",
    "    self.nodes.add(value)\n",
    "\n",
    "  def add_edge(self, from_node, to_node, distance):\n",
    "    self.edges[from_node].append(to_node)\n",
    "    self.edges[to_node].append(from_node)\n",
    "    self.distances[(from_node, to_node)] = distance\n",
    "    self.distances[to_node, from_node] = distance"
   ]
  },
  {
   "cell_type": "code",
   "execution_count": 243,
   "metadata": {},
   "outputs": [],
   "source": [
    "graph = Graph()"
   ]
  },
  {
   "cell_type": "code",
   "execution_count": 244,
   "metadata": {},
   "outputs": [],
   "source": [
    "graph.add_node(\"s\")"
   ]
  },
  {
   "cell_type": "code",
   "execution_count": 245,
   "metadata": {},
   "outputs": [],
   "source": [
    "graph.add_node(\"b\")"
   ]
  },
  {
   "cell_type": "code",
   "execution_count": 246,
   "metadata": {},
   "outputs": [],
   "source": [
    "graph.add_node(\"c\")"
   ]
  },
  {
   "cell_type": "code",
   "execution_count": 247,
   "metadata": {},
   "outputs": [],
   "source": [
    "graph.add_node(\"d\")"
   ]
  },
  {
   "cell_type": "code",
   "execution_count": 248,
   "metadata": {},
   "outputs": [],
   "source": [
    "graph.add_node(\"e\")"
   ]
  },
  {
   "cell_type": "code",
   "execution_count": 249,
   "metadata": {},
   "outputs": [],
   "source": [
    "graph.add_node(\"t\")"
   ]
  },
  {
   "cell_type": "code",
   "execution_count": 250,
   "metadata": {},
   "outputs": [
    {
     "name": "stdout",
     "output_type": "stream",
     "text": [
      "set(['c', 'b', 'e', 'd', 's', 't'])\n"
     ]
    }
   ],
   "source": [
    "print(graph.nodes)"
   ]
  },
  {
   "cell_type": "code",
   "execution_count": 251,
   "metadata": {},
   "outputs": [],
   "source": [
    "graph.add_edge('s','b',4)"
   ]
  },
  {
   "cell_type": "code",
   "execution_count": 252,
   "metadata": {},
   "outputs": [],
   "source": [
    "graph.add_edge('s','c',2)"
   ]
  },
  {
   "cell_type": "code",
   "execution_count": 253,
   "metadata": {},
   "outputs": [],
   "source": [
    "graph.add_edge('b','c',1)"
   ]
  },
  {
   "cell_type": "code",
   "execution_count": 254,
   "metadata": {},
   "outputs": [],
   "source": [
    "graph.add_edge('b','d',5)"
   ]
  },
  {
   "cell_type": "code",
   "execution_count": 255,
   "metadata": {},
   "outputs": [],
   "source": [
    "graph.add_edge('c','d',8)"
   ]
  },
  {
   "cell_type": "code",
   "execution_count": 256,
   "metadata": {},
   "outputs": [],
   "source": [
    "graph.add_edge('c','e',10)"
   ]
  },
  {
   "cell_type": "code",
   "execution_count": 257,
   "metadata": {},
   "outputs": [],
   "source": [
    "graph.add_edge('d','e',2)"
   ]
  },
  {
   "cell_type": "code",
   "execution_count": 258,
   "metadata": {},
   "outputs": [],
   "source": [
    "graph.add_edge('d','t',6)"
   ]
  },
  {
   "cell_type": "code",
   "execution_count": 259,
   "metadata": {},
   "outputs": [],
   "source": [
    "graph.add_edge('e','t',2)"
   ]
  },
  {
   "cell_type": "code",
   "execution_count": 260,
   "metadata": {},
   "outputs": [
    {
     "name": "stdout",
     "output_type": "stream",
     "text": [
      "{('b', 'c'): 1, ('s', 'b'): 4, ('t', 'd'): 6, ('c', 's'): 2, ('e', 'd'): 2, ('s', 'c'): 2, ('d', 'e'): 2, ('b', 's'): 4, ('c', 'b'): 1, ('d', 't'): 6, ('t', 'e'): 2, ('e', 't'): 2, ('e', 'c'): 10, ('c', 'd'): 8, ('d', 'b'): 5, ('d', 'c'): 8, ('c', 'e'): 10, ('b', 'd'): 5}\n"
     ]
    }
   ],
   "source": [
    "print(graph.distances)"
   ]
  },
  {
   "cell_type": "code",
   "execution_count": 261,
   "metadata": {},
   "outputs": [
    {
     "name": "stdout",
     "output_type": "stream",
     "text": [
      "defaultdict(<type 'list'>, {'c': ['s', 'b', 'd', 'e'], 'b': ['s', 'c', 'd'], 'e': ['c', 'd', 't'], 'd': ['b', 'c', 'e', 't'], 's': ['b', 'c'], 't': ['d', 'e']})\n"
     ]
    }
   ],
   "source": [
    "print(graph.edges)"
   ]
  },
  {
   "cell_type": "code",
   "execution_count": 262,
   "metadata": {},
   "outputs": [
    {
     "name": "stdout",
     "output_type": "stream",
     "text": [
      "['s', 'b', 'd', 'e']\n"
     ]
    }
   ],
   "source": [
    "print(graph.edges['c'])"
   ]
  },
  {
   "cell_type": "code",
   "execution_count": 263,
   "metadata": {},
   "outputs": [
    {
     "name": "stdout",
     "output_type": "stream",
     "text": [
      "{('b', 'c'): 1, ('s', 'b'): 4, ('t', 'd'): 6, ('c', 's'): 2, ('e', 'd'): 2, ('s', 'c'): 2, ('d', 'e'): 2, ('b', 's'): 4, ('c', 'b'): 1, ('d', 't'): 6, ('t', 'e'): 2, ('e', 't'): 2, ('e', 'c'): 10, ('c', 'd'): 8, ('d', 'b'): 5, ('d', 'c'): 8, ('c', 'e'): 10, ('b', 'd'): 5}\n"
     ]
    }
   ],
   "source": [
    "print(graph.distances)"
   ]
  },
  {
   "cell_type": "code",
   "execution_count": 264,
   "metadata": {},
   "outputs": [
    {
     "data": {
      "text/plain": [
       "({'b': 4, 'c': 2, 's': 0}, {'b': 's', 'c': 's'})"
      ]
     },
     "execution_count": 264,
     "metadata": {},
     "output_type": "execute_result"
    }
   ],
   "source": [
    "dijsktra(graph, \"s\")"
   ]
  },
  {
   "cell_type": "code",
   "execution_count": 265,
   "metadata": {},
   "outputs": [],
   "source": [
    "def calc_distance(graph, node1, node2):\n",
    "    return graph.distances[(node1,node2)] "
   ]
  },
  {
   "cell_type": "code",
   "execution_count": 266,
   "metadata": {},
   "outputs": [
    {
     "data": {
      "text/plain": [
       "1"
      ]
     },
     "execution_count": 266,
     "metadata": {},
     "output_type": "execute_result"
    }
   ],
   "source": [
    "calc_distance(graph, 'b', 'c')"
   ]
  },
  {
   "cell_type": "code",
   "execution_count": 267,
   "metadata": {},
   "outputs": [
    {
     "data": {
      "text/plain": [
       "8"
      ]
     },
     "execution_count": 267,
     "metadata": {},
     "output_type": "execute_result"
    }
   ],
   "source": [
    "calc_distance(graph, 'c', 'd')"
   ]
  },
  {
   "cell_type": "code",
   "execution_count": 268,
   "metadata": {},
   "outputs": [
    {
     "data": {
      "text/plain": [
       "['b', 'c', 'e', 't']"
      ]
     },
     "execution_count": 268,
     "metadata": {},
     "output_type": "execute_result"
    }
   ],
   "source": [
    "graph.edges['d']"
   ]
  },
  {
   "cell_type": "code",
   "execution_count": 284,
   "metadata": {},
   "outputs": [],
   "source": [
    "def dijsktra2(graph, initial_node, final_node):\n",
    "    current_node = initial_node\n",
    "    visited_nodes = {}\n",
    "    path = []\n",
    "    path.append(current_node)\n",
    "    while(current_node != final_node):\n",
    "        current_node_edges = graph.edges[current_node]\n",
    "        visited_distances = {}\n",
    "        for i in current_node_edges:\n",
    "            if i not in visited_nodes:\n",
    "                    temp_distance = calc_distance(graph, current_node, i)\n",
    "                    visited_distances[i]=temp_distance\n",
    "        if(visited_distances):\n",
    "            min_next = reduce(lambda x,y: x if visited_distances[x]<=visited_distances[y] else y, visited_distances.iterkeys())\n",
    "            next_object_distance = visited_distances[min_next]\n",
    "            next_object = {}\n",
    "            next_object[next_object_distance] = current_node\n",
    "            visited_nodes[current_node]=current_node\n",
    "            current_node = min_next\n",
    "        path.append(current_node)\n",
    "    return path"
   ]
  },
  {
   "cell_type": "code",
   "execution_count": 53,
   "metadata": {},
   "outputs": [
    {
     "data": {
      "text/plain": [
       "['s', 'c', 'b', 'd', 'e', 't']"
      ]
     },
     "execution_count": 53,
     "metadata": {},
     "output_type": "execute_result"
    }
   ],
   "source": [
    "dijsktra2(graph, 's', 't')"
   ]
  },
  {
   "cell_type": "code",
   "execution_count": 58,
   "metadata": {},
   "outputs": [],
   "source": [
    "array = np.array([1])"
   ]
  },
  {
   "cell_type": "code",
   "execution_count": 69,
   "metadata": {},
   "outputs": [],
   "source": [
    "array = np.append(array,1)"
   ]
  },
  {
   "cell_type": "code",
   "execution_count": 70,
   "metadata": {},
   "outputs": [
    {
     "data": {
      "text/plain": [
       "array([1, 1])"
      ]
     },
     "execution_count": 70,
     "metadata": {},
     "output_type": "execute_result"
    }
   ],
   "source": [
    "array"
   ]
  },
  {
   "cell_type": "markdown",
   "metadata": {},
   "source": [
    "## Cadena de multiplicacion de matrices\n",
    "Se dan una secuencia (cadena) <A1 , A2,...,An> de n matrices para ser multiplicadas y deseamos multiplicar el producto\n",
    "A1A2...An. La manera en como se acomode el agrupamiento de la multiplicacion por las matrices es muy importante y puede afectar\n",
    "significativamente el desempeno del algoritmo. A continuacion se presenta el algorimto general de multiplicacion de matrices:"
   ]
  },
  {
   "cell_type": "markdown",
   "metadata": {},
   "source": [
    "Se define el costo de multiplicacion de matrices por la variable 'scalar_mult'"
   ]
  },
  {
   "cell_type": "code",
   "execution_count": 252,
   "metadata": {},
   "outputs": [],
   "source": [
    "def mat_mult_simple(mat_a, mat_b):\n",
    "    scalar_mult = 0\n",
    "    new_matrix = np.zeros((len(mat_a),len(mat_b[0])))\n",
    "    for i in range(0, len(mat_a)):\n",
    "        for j in range(0, len(mat_b[0])):\n",
    "            for k in range(0,len(mat_a[0])):\n",
    "                new_matrix[i][j] = new_matrix[i][j] + mat_a[i][k] * mat_b[k][j]\n",
    "                scalar_mult = scalar_mult + 1\n",
    "    return new_matrix,scalar_mult"
   ]
  },
  {
   "cell_type": "markdown",
   "metadata": {},
   "source": [
    "Ejemplo a continuacion:"
   ]
  },
  {
   "cell_type": "code",
   "execution_count": 253,
   "metadata": {},
   "outputs": [],
   "source": [
    "x = np.array([[4,2,4], [8,3,1]], np.int32)"
   ]
  },
  {
   "cell_type": "code",
   "execution_count": 254,
   "metadata": {},
   "outputs": [],
   "source": [
    "y = np.array([[3,5], [2,8], [7,9]], np.int32)"
   ]
  },
  {
   "cell_type": "code",
   "execution_count": 255,
   "metadata": {},
   "outputs": [
    {
     "data": {
      "text/plain": [
       "array([[4, 2, 4],\n",
       "       [8, 3, 1]], dtype=int32)"
      ]
     },
     "execution_count": 255,
     "metadata": {},
     "output_type": "execute_result"
    }
   ],
   "source": [
    "x"
   ]
  },
  {
   "cell_type": "code",
   "execution_count": 256,
   "metadata": {},
   "outputs": [
    {
     "data": {
      "text/plain": [
       "array([[3, 5],\n",
       "       [2, 8],\n",
       "       [7, 9]], dtype=int32)"
      ]
     },
     "execution_count": 256,
     "metadata": {},
     "output_type": "execute_result"
    }
   ],
   "source": [
    "y"
   ]
  },
  {
   "cell_type": "code",
   "execution_count": 257,
   "metadata": {},
   "outputs": [
    {
     "name": "stdout",
     "output_type": "stream",
     "text": [
      "(array([[44., 72.],\n",
      "       [37., 73.]]), 12)\n"
     ]
    }
   ],
   "source": [
    "print(mat_mult_simple(x,y))"
   ]
  },
  {
   "cell_type": "markdown",
   "metadata": {},
   "source": [
    "El tiempo de calculo esta dado por el numero de multiplicaciones escalares en la linea 6 del codigo.\n",
    "En el caso del ejemplo simple es 12"
   ]
  },
  {
   "cell_type": "markdown",
   "metadata": {},
   "source": [
    "Se describe el problema de la multiplicacion de matrices en cadena como sigue:\n",
    "Dada una cadena de n matrices <A1, A2, ... An>, donde i = 1,2,3,...,n, la matriz Ai tiene una dimension pi-1 x pi,\n",
    "encontrar una manera de agrupar las matrices por parentesis de una forma que se minimize el numero\n",
    "de multiplicaciones escalares. Notar que no se estan multiplicando matrices. El fin es determinar el costo menor."
   ]
  },
  {
   "cell_type": "markdown",
   "metadata": {},
   "source": [
    "Antes de aplicar programacion dinamica al problema es importante mencionar que revisar todas las posibles agrupaciones\n",
    "por parentesis no es una solucion eficiente. El numero de posibles soluciones es exponencial en n."
   ]
  },
  {
   "cell_type": "markdown",
   "metadata": {},
   "source": [
    "### Aplicando programacion dinamica"
   ]
  },
  {
   "cell_type": "markdown",
   "metadata": {},
   "source": [
    "Teoricamente, el valor del costo minimo del agrupamiento de las matrices estan dado por la siguiente funcion:\n",
    "m[i,j] = {0 si i=j, min{m[i,k] + m[k+1,j] + pi-1*pk*pj}, si i<j}."
   ]
  },
  {
   "cell_type": "markdown",
   "metadata": {},
   "source": [
    "Esta funcion recursiva consiste en partir en subconjuntos las matrices y encontrar soluciones optimas \"locales\". Sin embargo una solucion recursiva presenta similitudes con intentar de probar todas las combinaciones y es cara por definicion, por ello se utiliza una solucion con programacion dinamica."
   ]
  },
  {
   "cell_type": "markdown",
   "metadata": {},
   "source": [
    "Esta solucion asume que la matriz Ai tiene dimensiones pi-1*pi para i=1,2,...,n.\n",
    "El input es la secuencia p=<p0,p1,...,pn>, donde p.length = n+1. Este metodo utiliza una table auxiliar\n",
    "m[1...n,1...n] para guardar m[i,j] costos y otra tabla auxiliar s[1...n-1,2...n] para guardar el indice de k que logro una solucion optima al calcular m[i,j]."
   ]
  },
  {
   "cell_type": "markdown",
   "metadata": {},
   "source": [
    "Para implementar la solucion este enfoque, se deben de determinar a que elementos de la tabla nos estamos refiriendo cuando calculemos m[i,j], el costo minimo asociado a las matrices i,...j. Por ejemplo para k=i, i+1,...j-1 la matriz Ai..k es el producto de k-i+1<j-i+1 matrices y la matriz Ak+1..j es el producto de j-k<j-i+1 matrices."
   ]
  },
  {
   "cell_type": "markdown",
   "metadata": {},
   "source": [
    "El algoritmo debe llenar en la tabla m de una forma que corresponda a resolver el problema del agrupamiento o \"parentizacion\" en cadenas de matrices de tamano creciente. A continuacion el algoritmo:"
   ]
  },
  {
   "cell_type": "code",
   "execution_count": null,
   "metadata": {},
   "outputs": [],
   "source": []
  },
  {
   "cell_type": "code",
   "execution_count": null,
   "metadata": {},
   "outputs": [],
   "source": []
  },
  {
   "cell_type": "code",
   "execution_count": null,
   "metadata": {},
   "outputs": [],
   "source": []
  },
  {
   "cell_type": "code",
   "execution_count": null,
   "metadata": {},
   "outputs": [],
   "source": []
  },
  {
   "cell_type": "code",
   "execution_count": null,
   "metadata": {},
   "outputs": [],
   "source": []
  },
  {
   "cell_type": "code",
   "execution_count": null,
   "metadata": {},
   "outputs": [],
   "source": []
  },
  {
   "cell_type": "code",
   "execution_count": null,
   "metadata": {},
   "outputs": [],
   "source": []
  },
  {
   "cell_type": "code",
   "execution_count": null,
   "metadata": {},
   "outputs": [],
   "source": []
  }
 ],
 "metadata": {
  "kernelspec": {
   "display_name": "Python 2",
   "language": "python",
   "name": "python2"
  },
  "language_info": {
   "codemirror_mode": {
    "name": "ipython",
    "version": 2
   },
   "file_extension": ".py",
   "mimetype": "text/x-python",
   "name": "python",
   "nbconvert_exporter": "python",
   "pygments_lexer": "ipython2",
   "version": "2.7.12"
  }
 },
 "nbformat": 4,
 "nbformat_minor": 2
}
